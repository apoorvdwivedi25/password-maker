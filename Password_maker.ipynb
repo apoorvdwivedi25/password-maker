{
  "nbformat": 4,
  "nbformat_minor": 0,
  "metadata": {
    "colab": {
      "provenance": [],
      "authorship_tag": "ABX9TyPhiJT1vysFS+EI/H4V/GMW",
      "include_colab_link": true
    },
    "kernelspec": {
      "name": "python3",
      "display_name": "Python 3"
    },
    "language_info": {
      "name": "python"
    }
  },
  "cells": [
    {
      "cell_type": "markdown",
      "metadata": {
        "id": "view-in-github",
        "colab_type": "text"
      },
      "source": [
        "<a href=\"https://colab.research.google.com/github/apoorvdwivedi25/password-maker/blob/main/Password_maker.ipynb\" target=\"_parent\"><img src=\"https://colab.research.google.com/assets/colab-badge.svg\" alt=\"Open In Colab\"/></a>"
      ]
    },
    {
      "cell_type": "code",
      "execution_count": 4,
      "metadata": {
        "colab": {
          "base_uri": "https://localhost:8080/"
        },
        "id": "N--4OoLioxCS",
        "outputId": "717e2fff-0e5e-4159-b8ab-dd76479997b9"
      },
      "outputs": [
        {
          "output_type": "stream",
          "name": "stdout",
          "text": [
            "Welcome to the PyPassword Generator!\n",
            "How many letters would you like in your password?\n",
            "5\n",
            "How many symbols would you like?\n",
            "5\n",
            "How many numbers would you like?\n",
            "5\n",
            "*f4&T0$78I5)%UU\n"
          ]
        }
      ],
      "source": [
        "import random\n",
        "letters = ['a', 'b', 'c', 'd', 'e', 'f', 'g', 'h', 'i', 'j', 'k', 'l', 'm', 'n', 'o', 'p', 'q', 'r', 's', 't', 'u', 'v', 'w', 'x', 'y', 'z', 'A', 'B', 'C', 'D', 'E', 'F', 'G', 'H', 'I', 'J', 'K', 'L', 'M', 'N', 'O', 'P', 'Q', 'R', 'S', 'T', 'U', 'V', 'W', 'X', 'Y', 'Z']\n",
        "numbers = ['0', '1', '2', '3', '4', '5', '6', '7', '8', '9']\n",
        "symbols = ['!', '#', '$', '%', '&', '(', ')', '*', '+']\n",
        "\n",
        "print(\"Welcome to the PyPassword Generator!\")\n",
        "nr_letters= int(input(\"How many letters would you like in your password?\\n\"))\n",
        "nr_symbols = int(input(f\"How many symbols would you like?\\n\"))\n",
        "nr_numbers = int(input(f\"How many numbers would you like?\\n\"))\n",
        "password = \"\"\n",
        "#for char in range(1,nr_letters+1):\n",
        "#   password += random.choice(letters)\n",
        "#for char in range(1,nr_numbers+1):\n",
        "#    password += random.choice(numbers)\n",
        "#for char in range(1,nr_symbols+1):\n",
        "#    password += random.choice(symbols)\n",
        "#print(password)\n",
        "\n",
        "password_List = []\n",
        "for char in range(1,nr_letters+1):\n",
        "    password_List += random.choice(letters)\n",
        "for char in range(1,nr_numbers+1):\n",
        "    password_List += random.choice(numbers)\n",
        "for char in range(1,nr_symbols+1):\n",
        "    password_List += random.choice(symbols)\n",
        "#print(password_List)\n",
        "random.shuffle(password_List)\n",
        "#print(password_List)\n",
        "for char in password_List:\n",
        "    password += char\n",
        "print(password)"
      ]
    }
  ]
}